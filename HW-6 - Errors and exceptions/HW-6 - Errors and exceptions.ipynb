{
 "cells": [
  {
   "cell_type": "markdown",
   "metadata": {},
   "source": [
    "Домашнее задание к лекции «Исключения и обработка ошибок»\n",
    "Преподаватель: Константин Башевой\n",
    "\n",
    "Важно! замечание к заданию.\n",
    "\n",
    "**** Для зачета достаточно сделать три задания! (четвертое бонусное)****\n",
    "\n",
    "При копировании с сайта нетологии Jupyter ноутбук изменяет кавычки ’ на `. Прошу учесть данный факт и обращать внимание.\n",
    "Достаточно просто заменить кавычки.\n",
    "\n"
   ]
  },
  {
   "cell_type": "markdown",
   "metadata": {},
   "source": [
    "Задание 1\n",
    "Печатные газеты использовали свой формат дат для каждого выпуска. Для каждой газеты из списка напишите формат указанной даты для перевода в объект datetime:\n",
    "The Moscow Times - Wednesday, October 2, 2002\n",
    "The Guardian - Friday, 11.10.13\n",
    "Daily News - Thursday, 18 August 1977"
   ]
  },
  {
   "cell_type": "code",
   "execution_count": 1,
   "metadata": {},
   "outputs": [
    {
     "name": "stdout",
     "output_type": "stream",
     "text": [
      "2002-10-02 00:00:00\n",
      "2013-11-10 00:00:00\n",
      "1977-08-18 00:00:00\n"
     ]
    }
   ],
   "source": [
    "from datetime import datetime as dt\n",
    "Moscow_times = 'Wednesday, October 2, 2002'\n",
    "date_format = dt.strptime(Moscow_times, '%A, %B %d, %Y')\n",
    "print(date_format)\n",
    "The_Guardian = 'Friday, 11.10.13'\n",
    "date_format = dt.strptime(The_Guardian, '%A, %m.%d.%y')\n",
    "print(date_format)\n",
    "Daily_News ='Thursday, 18 August 1977'\n",
    "date_format = dt.strptime(Daily_News, '%A, %d %B %Y')\n",
    "print(date_format)"
   ]
  },
  {
   "cell_type": "markdown",
   "metadata": {},
   "source": [
    "Задание 2\n",
    "Дан поток дат в формате YYYY-MM-DD, в которых встречаются некорректные значения:\n",
    "stream = [‘2018-04-02’, ‘2018-02-29’, ‘2018-19-02’]\n",
    "\n",
    "Напишите функцию, которая проверяет эти даты на корректность. Т. е. для каждой даты возвращает True (дата корректна) или False (некорректная дата).\n"
   ]
  },
  {
   "cell_type": "code",
   "execution_count": 2,
   "metadata": {},
   "outputs": [
    {
     "name": "stdout",
     "output_type": "stream",
     "text": [
      "True\n",
      "False\n",
      "False\n"
     ]
    }
   ],
   "source": [
    "def date_checker(stream):\n",
    "    from datetime import datetime as dt\n",
    "    for date in stream:\n",
    "        try:\n",
    "            date_format = dt.strptime(date, '%Y-%m-%d')\n",
    "            print(True)\n",
    "        except ValueError:\n",
    "            print(False)\n",
    "stream = ['2018-04-02', '2018-02-29', '2018-19-02']\n",
    "date_checker(stream)"
   ]
  },
  {
   "cell_type": "markdown",
   "metadata": {},
   "source": [
    "Задание 3\n",
    "Напишите функцию date_range, которая возвращает список дат за период от start_date до end_date. Даты должны вводиться в формате YYYY-MM-DD. В случае неверного формата или при start_date > end_date должен возвращаться пустой список.\n"
   ]
  },
  {
   "cell_type": "code",
   "execution_count": 5,
   "metadata": {},
   "outputs": [
    {
     "name": "stdout",
     "output_type": "stream",
     "text": [
      "введите начальную дату в формате YYYY-MM-DD\n",
      "2001-01-1\n",
      "введите конечную дату в формате YYYY-MM-DD\n",
      "2001-01-10\n"
     ]
    },
    {
     "data": {
      "text/plain": [
       "['2001-01-01',\n",
       " '2001-01-02',\n",
       " '2001-01-03',\n",
       " '2001-01-04',\n",
       " '2001-01-05',\n",
       " '2001-01-06',\n",
       " '2001-01-07',\n",
       " '2001-01-08',\n",
       " '2001-01-09',\n",
       " '2001-01-10']"
      ]
     },
     "execution_count": 5,
     "metadata": {},
     "output_type": "execute_result"
    }
   ],
   "source": [
    "def date_range():\n",
    "    from datetime import datetime, timedelta\n",
    "    new_date_list = []\n",
    "    try:\n",
    "        start_date = datetime.strptime(input(\"введите начальную дату в формате YYYY-MM-DD\\n\"),'%Y-%m-%d')\n",
    "        end_date = datetime.strptime(input(\"введите конечную дату в формате YYYY-MM-DD\\n\"),'%Y-%m-%d')\n",
    "        if start_date < end_date:\n",
    "            while start_date <= end_date:\n",
    "                new_date_list.append(datetime.strftime(start_date,'%Y-%m-%d'))\n",
    "                start_date += timedelta(days = 1)\n",
    "        return new_date_list\n",
    "    except ValueError:\n",
    "        return new_date_list\n",
    "date_range()\n"
   ]
  },
  {
   "cell_type": "markdown",
   "metadata": {},
   "source": [
    "Задание 4 (бонусное)\n",
    "Ваш коллега прислал код функции:\n",
    "\n",
    "DEFAULT_USER_COUNT = 3\n",
    "\n",
    "def delete_and_return_last_user(region, default_list=[‘A100’, ‘A101’, ‘A102’]):\n",
    "\"\"\"\n",
    "Удаляет из списка default_list последнего пользователя\n",
    "и возвращает ID нового последнего пользователя.\n",
    "\"\"\"\n",
    "element_to_delete = default_list[-1]\n",
    "default_list.remove(element_to_delete)\n",
    "\n",
    "1\n",
    "return default_list[DEFAULT_USER_COUNT-2]\n",
    "\n",
    "При однократном вызове этой функции все работает корректно:\n",
    "delete_and_return_last_user(1)\n",
    "‘A101’\n",
    "\n",
    "Однако, при повторном вызове получается ошибка IndexError: list index out of range.\n",
    "\n",
    "Задание:\n",
    "\n",
    "    Что значит ошибка list index out of range?\n",
    "    Почему при первом запуске функция работает корректно, а при втором - нет?"
   ]
  },
  {
   "cell_type": "code",
   "execution_count": 4,
   "metadata": {},
   "outputs": [
    {
     "data": {
      "text/plain": [
       "'A101'"
      ]
     },
     "execution_count": 4,
     "metadata": {},
     "output_type": "execute_result"
    }
   ],
   "source": [
    "DEFAULT_USER_COUNT = 3\n",
    "def delete_and_return_last_user(region, default_list=['A100', 'A101', 'A102']): \n",
    "    \"\"\"\n",
    "    Удаляет из списка default_list \n",
    "    последнего пользователя и возвращает\n",
    "    ID нового последнего пользователя. \n",
    "    \"\"\"\n",
    "    element_to_delete = default_list[-1]\n",
    "    default_list.remove(element_to_delete)\n",
    "    return default_list[DEFAULT_USER_COUNT-2]\n",
    "    \n",
    "delete_and_return_last_user(1)\n",
    "\n",
    "#  Я видимо неправильно скопировал задание, т.к. у меня не происходит изменений при повторном исполнении функции.\n",
    "#  1. Что значит ошибка list index out of range? - означает, что функция пытается\n",
    "#  вызвать позицию в списке, которой не существует\n",
    "#  2. возникающая при этом ошибка объясняется довольно легко - из 3х позиций, удаляется [-1], \n",
    "#  остаются 0 и 1 (они же -1 и -2). После исполнения функции первый раз, счетчик, который находится\n",
    "# вне функции, НЕ сбрасывается до 1, как, видимо, предполагалось. \n",
    "#  однако на шаге element_to_delete = default_list[-1] и \n",
    "# default_list.remove(element_to_delete)\n",
    "# в списке остается уже одно значение, это 0 (он же -1).\n",
    "#  При попытке вызвать функцию по индексу [1] происходит эта ошибка\n",
    "# PS: не совсем понял, зачем задается переменная region, если она даже не используется?"
   ]
  },
  {
   "cell_type": "code",
   "execution_count": null,
   "metadata": {},
   "outputs": [],
   "source": []
  },
  {
   "cell_type": "code",
   "execution_count": null,
   "metadata": {},
   "outputs": [],
   "source": [
    "\n"
   ]
  }
 ],
 "metadata": {
  "kernelspec": {
   "display_name": "Python 3",
   "language": "python",
   "name": "python3"
  },
  "language_info": {
   "codemirror_mode": {
    "name": "ipython",
    "version": 3
   },
   "file_extension": ".py",
   "mimetype": "text/x-python",
   "name": "python",
   "nbconvert_exporter": "python",
   "pygments_lexer": "ipython3",
   "version": "3.7.6"
  }
 },
 "nbformat": 4,
 "nbformat_minor": 4
}
